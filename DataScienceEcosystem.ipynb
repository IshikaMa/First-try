{
 "cells": [
  {
   "cell_type": "code",
   "execution_count": null,
   "id": "e9a459f8-d212-4e57-a5d1-940891c51faa",
   "metadata": {},
   "outputs": [],
   "source": []
  },
  {
   "cell_type": "markdown",
   "id": "51618bdd-422f-4551-b5ad-f2ac9cbb389b",
   "metadata": {},
   "source": [
    "# Data Science tools and Ecosystem"
   ]
  },
  {
   "cell_type": "markdown",
   "id": "0ce8311b-e64d-46b1-9a76-f5659845fda0",
   "metadata": {},
   "source": [
    "In this notebook, Data Science Tools and Ecosystem are summarized "
   ]
  },
  {
   "cell_type": "markdown",
   "id": "0f2c4cbe-4bd3-4a4b-b56f-0276736444d8",
   "metadata": {},
   "source": [
    "Some of the popular that Data Scientists use are:"
   ]
  },
  {
   "cell_type": "markdown",
   "id": "046b6f79-1a83-464c-8640-7200b6ea24a8",
   "metadata": {},
   "source": [
    "1. Python"
   ]
  },
  {
   "cell_type": "markdown",
   "id": "1069240c-49e8-4236-821e-bfaa2bd6ad59",
   "metadata": {},
   "source": [
    "2. SQL"
   ]
  },
  {
   "cell_type": "markdown",
   "id": "feebd349-5b4f-45a9-8456-363528aca28e",
   "metadata": {},
   "source": [
    "3. R"
   ]
  },
  {
   "cell_type": "markdown",
   "id": "f0e83974-bcbe-41c3-83e5-d2bf647d39f6",
   "metadata": {},
   "source": [
    "Some of the commonly used libraries used by Data Scientists use are:"
   ]
  },
  {
   "cell_type": "markdown",
   "id": "bb8e4659-f2d2-40f5-8cba-86b51710f5ba",
   "metadata": {},
   "source": [
    "1. Matplotlib\n",
    "2. TensorFlow\n",
    "3. Apache Spark"
   ]
  },
  {
   "cell_type": "markdown",
   "id": "92582c6a-d6ff-4eb7-b11a-e288dc8cf3a1",
   "metadata": {},
   "source": [
    "| Data Science Tools |\n",
    "|---|\n",
    "|1. Apache Hadoop|\n",
    "|---|\n",
    "|2. Apache Spark|\n",
    "|---|\n",
    "|3. Apache Flink|"
   ]
  },
  {
   "cell_type": "markdown",
   "id": "e241a301-b3f4-49e3-8a79-3bfe0006b494",
   "metadata": {},
   "source": [
    "### Below are few examples of evaluating arithmetic expressions in Python"
   ]
  },
  {
   "cell_type": "markdown",
   "id": "68c533cc-8d5e-4224-9228-2130cc31a952",
   "metadata": {},
   "source": [
    "This is a simple arithmetic expression to multiply then add integers"
   ]
  },
  {
   "cell_type": "code",
   "execution_count": 21,
   "id": "3dab89af-6327-4d65-8cd2-a752179c7199",
   "metadata": {},
   "outputs": [
    {
     "data": {
      "text/plain": [
       "17"
      ]
     },
     "execution_count": 21,
     "metadata": {},
     "output_type": "execute_result"
    }
   ],
   "source": [
    "(3*4)+5"
   ]
  },
  {
   "cell_type": "markdown",
   "id": "12d7da4b-65fc-4459-b323-93679cd8be30",
   "metadata": {},
   "source": [
    "This will convert 200 minutes to hours by diving by 60"
   ]
  },
  {
   "cell_type": "code",
   "execution_count": 20,
   "id": "0ea91224-1a42-4295-bf85-fd5be45853c2",
   "metadata": {},
   "outputs": [],
   "source": [
    "h=200/60"
   ]
  },
  {
   "cell_type": "markdown",
   "id": "e5ef554a-85f4-42b1-ae06-94c8752b46b7",
   "metadata": {},
   "source": [
    "**Objectives:**"
   ]
  },
  {
   "cell_type": "markdown",
   "id": "bdcebf04-e4e0-4a5a-930a-7a4e972bc621",
   "metadata": {},
   "source": [
    "List of popular languages for Data Science"
   ]
  },
  {
   "cell_type": "markdown",
   "id": "933c140b-8ac4-42e7-b5c7-ee5536abe5c0",
   "metadata": {},
   "source": [
    "- Python\n",
    "- R\n",
    "- Scala\n",
    "- SQL\n",
    "- Julia"
   ]
  },
  {
   "cell_type": "markdown",
   "id": "0edb37ae-6d04-4912-ad7e-2a3b259824b5",
   "metadata": {},
   "source": [
    "## Author"
   ]
  },
  {
   "cell_type": "markdown",
   "id": "a8abeb1f-7119-4d15-856f-3c203dbfd7f8",
   "metadata": {},
   "source": [
    "Ishika Majumdar"
   ]
  },
  {
   "cell_type": "code",
   "execution_count": null,
   "id": "22c65703-fe88-45fc-bb76-a2e15e8aea9c",
   "metadata": {},
   "outputs": [],
   "source": []
  }
 ],
 "metadata": {
  "kernelspec": {
   "display_name": "Python 3 (ipykernel)",
   "language": "python",
   "name": "python3"
  },
  "language_info": {
   "codemirror_mode": {
    "name": "ipython",
    "version": 3
   },
   "file_extension": ".py",
   "mimetype": "text/x-python",
   "name": "python",
   "nbconvert_exporter": "python",
   "pygments_lexer": "ipython3",
   "version": "3.12.4"
  }
 },
 "nbformat": 4,
 "nbformat_minor": 5
}
